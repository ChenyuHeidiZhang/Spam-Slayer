{
 "cells": [
  {
   "cell_type": "code",
   "execution_count": 1,
   "metadata": {
    "scrolled": true
   },
   "outputs": [
    {
     "name": "stdout",
     "output_type": "stream",
     "text": [
      "----------Extraction of data is complete. Check json file.----------\n"
     ]
    }
   ],
   "source": [
    "#!/usr/bin/python\n",
    "# -*- coding: utf-8 -*-\n",
    "import urllib.request\n",
    "import urllib.parse\n",
    "import urllib.error\n",
    "from bs4 import BeautifulSoup\n",
    "import ssl\n",
    "import json\n",
    "\n",
    "ctx = ssl.create_default_context()\n",
    "ctx.check_hostname = False\n",
    "ctx.verify_mode = ssl.CERT_NONE\n",
    "\n",
    "# url=input(\"Enter Amazon Product Url- \")\n",
    "url = 'https://www.amazon.com/Bose-QuietComfort-Bluetooth-Headphones-Noise-Cancelling/dp/B0756GB78C/ref=pd_rhf_ee_s_gcx-rhf_0_2/137-0404929-6941510?_encoding=UTF8&pd_rd_i=B0756GB78C&pd_rd_r=cbeded1e-1e7e-403d-990d-bee197296826&pd_rd_w=LdUMW&pd_rd_wg=HEA5f&pf_rd_p=362afe23-d338-4a7e-9543-e1a204d5662e&pf_rd_r=KVTN44M0EK8MKZASATZA&psc=1&refRID=KVTN44M0EK8MKZASATZA'\n",
    "html = urllib.request.urlopen(url, context=ctx).read()\n",
    "soup = BeautifulSoup(html, 'html.parser')\n",
    "html = soup.prettify('utf-8')\n",
    "product_json = {}\n",
    "\n",
    "for divs in soup.findAll('div', attrs={'class': 'a-box-group'}):\n",
    "    try:\n",
    "        product_json['brand'] = divs['data-brand']\n",
    "        break\n",
    "    except:\n",
    "        pass\n",
    "\n",
    "for spans in soup.findAll('span', attrs={'id': 'productTitle'}):\n",
    "    name_of_product = spans.text.strip()\n",
    "    product_json['name'] = name_of_product\n",
    "    break\n",
    "\n",
    "for divs in soup.findAll('div'):\n",
    "    try:\n",
    "        price = str(divs['data-asin-price'])\n",
    "        product_json['price'] = '$' + price\n",
    "        break\n",
    "    except:\n",
    "        pass\n",
    "\n",
    "for divs in soup.findAll('div', attrs={'id': 'rwImages_hidden'}):\n",
    "    for img_tag in divs.findAll('img', attrs={'style': 'display:none;'}):\n",
    "        product_json['img-url'] = img_tag['src']\n",
    "        break\n",
    "\n",
    "for i_tags in soup.findAll('i',\n",
    "                           attrs={'data-hook': 'average-star-rating'}):\n",
    "    for spans in i_tags.findAll('span', attrs={'class': 'a-icon-alt'}):\n",
    "        product_json['star-rating'] = spans.text.strip()\n",
    "        break\n",
    "\n",
    "for spans in soup.findAll('span', attrs={'id': 'acrCustomerReviewText'\n",
    "                          }):\n",
    "    if spans.text:\n",
    "        review_count = spans.text.strip()\n",
    "        product_json['customer-reviews-count'] = review_count\n",
    "        break\n",
    "\n",
    "product_json['details'] = []\n",
    "for ul_tags in soup.findAll('ul',\n",
    "                            attrs={'class': 'a-unordered-list a-vertical a-spacing-none'\n",
    "                            }):\n",
    "    for li_tags in ul_tags.findAll('li'):\n",
    "        for spans in li_tags.findAll('span',\n",
    "                attrs={'class': 'a-list-item'}, text=True,\n",
    "                recursive=False):\n",
    "            product_json['details'].append(spans.text.strip())\n",
    "\n",
    "product_json['short-reviews'] = []\n",
    "for a_tags in soup.findAll('a',\n",
    "                           attrs={'class': 'a-size-base a-link-normal review-title a-color-base a-text-bold'\n",
    "                           }):\n",
    "    short_review = a_tags.text.strip()\n",
    "    product_json['short-reviews'].append(short_review)\n",
    "\n",
    "product_json['long-reviews'] = []\n",
    "for divs in soup.findAll('div', attrs={'data-hook': 'review-collapsed'}):\n",
    "    long_review = divs.text.strip()\n",
    "    product_json['long-reviews'].append(long_review)\n",
    "\n",
    "with open('output_file.html', 'wb') as file:\n",
    "    file.write(html)\n",
    "with open('product.json', 'w') as outfile:\n",
    "    json.dump(product_json, outfile, indent=4)\n",
    "print('----------Extraction of data is complete. Check json file.----------')"
   ]
  },
  {
   "cell_type": "code",
   "execution_count": null,
   "metadata": {},
   "outputs": [],
   "source": []
  },
  {
   "cell_type": "code",
   "execution_count": 2,
   "metadata": {},
   "outputs": [],
   "source": [
    "import bs4"
   ]
  },
  {
   "cell_type": "code",
   "execution_count": null,
   "metadata": {},
   "outputs": [],
   "source": []
  }
 ],
 "metadata": {
  "kernelspec": {
   "display_name": "Python 3",
   "language": "python",
   "name": "python3"
  },
  "language_info": {
   "codemirror_mode": {
    "name": "ipython",
    "version": 3
   },
   "file_extension": ".py",
   "mimetype": "text/x-python",
   "name": "python",
   "nbconvert_exporter": "python",
   "pygments_lexer": "ipython3",
   "version": "3.7.1"
  }
 },
 "nbformat": 4,
 "nbformat_minor": 2
}
