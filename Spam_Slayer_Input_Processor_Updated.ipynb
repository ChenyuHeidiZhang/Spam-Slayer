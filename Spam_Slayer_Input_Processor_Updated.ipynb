{
  "nbformat": 4,
  "nbformat_minor": 0,
  "metadata": {
    "kernelspec": {
      "display_name": "Python 3",
      "language": "python",
      "name": "python3"
    },
    "language_info": {
      "codemirror_mode": {
        "name": "ipython",
        "version": 3
      },
      "file_extension": ".py",
      "mimetype": "text/x-python",
      "name": "python",
      "nbconvert_exporter": "python",
      "pygments_lexer": "ipython3",
      "version": "3.6.2"
    },
    "colab": {
      "name": "Spam_Slayer_Input_Processor_Updated.ipynb",
      "version": "0.3.2",
      "provenance": [],
      "collapsed_sections": []
    }
  },
  "cells": [
    {
      "cell_type": "code",
      "metadata": {
        "id": "7X0fcLfpnFWZ",
        "colab_type": "code",
        "outputId": "d4f8c5f5-3fd6-4269-8ab0-ae4f2262cea0",
        "colab": {
          "base_uri": "https://localhost:8080/",
          "height": 159
        }
      },
      "source": [
        "#!git clone https://github.com/ChenyuHeidiZhang/Spam-Slayer.git"
      ],
      "execution_count": 0,
      "outputs": [
        {
          "output_type": "stream",
          "text": [
            "Cloning into 'Spam-Slayer'...\n",
            "remote: Enumerating objects: 98, done.\u001b[K\n",
            "remote: Counting objects: 100% (98/98), done.\u001b[K\n",
            "remote: Compressing objects: 100% (69/69), done.\u001b[K\n",
            "remote: Total 1788 (delta 43), reused 80 (delta 29), pack-reused 1690\u001b[K\n",
            "Receiving objects: 100% (1788/1788), 105.89 MiB | 37.24 MiB/s, done.\n",
            "Resolving deltas: 100% (55/55), done.\n",
            "Checking out files: 100% (3279/3279), done.\n"
          ],
          "name": "stdout"
        }
      ]
    },
    {
      "cell_type": "code",
      "metadata": {
        "id": "ZYDH0wFlje0J",
        "colab_type": "code",
        "colab": {}
      },
      "source": [
        "from __future__ import print_function\n",
        "import os\n",
        "import io\n",
        "import re\n",
        "import matplotlib.pyplot as plt\n",
        "import gensim\n",
        "from six.moves import cPickle as pickle\n",
        "import numpy as np\n",
        "import scipy.stats as stats"
      ],
      "execution_count": 0,
      "outputs": []
    },
    {
      "cell_type": "code",
      "metadata": {
        "id": "QgmKXluGm7iR",
        "colab_type": "code",
        "colab": {}
      },
      "source": [
        "import zipfile\n",
        "with zipfile.ZipFile('/content/Spam-Slayer/Amazon reviews data.zip', 'r') as zip_ref:\n",
        "    zip_ref.extractall('.')"
      ],
      "execution_count": 0,
      "outputs": []
    },
    {
      "cell_type": "code",
      "metadata": {
        "id": "iXilQ6Aoje0N",
        "colab_type": "code",
        "outputId": "51e811bc-a2cd-495e-d26a-f9be35be6b83",
        "colab": {
          "base_uri": "https://localhost:8080/",
          "height": 52
        }
      },
      "source": [
        "truthful_pos = '/content/Spam-Slayer/Data/op_spam_v1.4/positive_polarity/truthful_from_TripAdvisor/'\n",
        "truthful_neg = '/content/Spam-Slayer/Data/op_spam_v1.4/negative_polarity/truthful_from_Web/'\n",
        "\n",
        "deceptive_pos = '/content/Spam-Slayer/Data/op_spam_v1.4/positive_polarity/deceptive_from_MTurk/'\n",
        "deceptive_neg = '/content/Spam-Slayer/Data/op_spam_v1.4/negative_polarity/deceptive_from_MTurk/'\n",
        "\n",
        "amazon_truthful = '/content/Amazon reviews data/t'\n",
        "amazon_deceptive = '/content/Amazon reviews data/d'\n",
        "\n",
        "\n",
        "truthful_reviews_link = []\n",
        "\n",
        "for fold in os.listdir(truthful_pos):\n",
        "    foldLink = os.path.join(truthful_pos, fold)\n",
        "    if os.path.isdir(foldLink):\n",
        "        for f in os.listdir(foldLink):\n",
        "            fileLink = os.path.join(foldLink, f)\n",
        "            truthful_reviews_link.append(fileLink)\n",
        "\n",
        "for fold in os.listdir(truthful_neg):\n",
        "    foldLink = os.path.join(truthful_neg, fold)\n",
        "    if os.path.isdir(foldLink):\n",
        "        for f in os.listdir(foldLink):\n",
        "            fileLink = os.path.join(foldLink, f)\n",
        "            truthful_reviews_link.append(fileLink)\n",
        "\n",
        "for filename in os.listdir(amazon_truthful):\n",
        "    fileLink = os.path.join(amazon_truthful, filename)\n",
        "    truthful_reviews_link.append(fileLink)\n",
        "\n",
        "deceptive_reviews_link = []\n",
        "\n",
        "for fold in os.listdir(deceptive_pos):\n",
        "    foldLink = os.path.join(deceptive_pos, fold)\n",
        "    if os.path.isdir(foldLink):\n",
        "        for f in os.listdir(foldLink):\n",
        "            fileLink = os.path.join(foldLink, f)\n",
        "            deceptive_reviews_link.append(fileLink)\n",
        "\n",
        "for fold in os.listdir(deceptive_neg):\n",
        "    foldLink = os.path.join(deceptive_neg, fold)\n",
        "    if os.path.isdir(foldLink):\n",
        "        for f in os.listdir(foldLink):\n",
        "            fileLink = os.path.join(foldLink, f)\n",
        "            deceptive_reviews_link.append(fileLink)\n",
        "\n",
        "for filename in os.listdir(amazon_deceptive):\n",
        "    fileLink = os.path.join(amazon_deceptive, filename)\n",
        "    deceptive_reviews_link.append(fileLink)\n",
        "        \n",
        "print('Number of truthfuls reviews ', len(truthful_reviews_link))\n",
        "print('Number of deceptives reviews ', len(deceptive_reviews_link))\n"
      ],
      "execution_count": 0,
      "outputs": [
        {
          "output_type": "stream",
          "text": [
            "Number of truthfuls reviews  11300\n",
            "Number of deceptives reviews  11300\n"
          ],
          "name": "stdout"
        }
      ]
    },
    {
      "cell_type": "code",
      "metadata": {
        "id": "SJZ7fVVcje0R",
        "colab_type": "code",
        "outputId": "2b7529dd-b433-4c3a-f4ec-41a153a272e5",
        "colab": {
          "base_uri": "https://localhost:8080/",
          "height": 88
        }
      },
      "source": [
        "def clean_str(string):\n",
        "    \"\"\"\n",
        "    Tokenization/string cleaning for all datasets except for SST.\n",
        "    Original taken from https://github.com/yoonkim/CNN_sentence/blob/master/process_data.py\n",
        "    \"\"\"\n",
        "    string = re.sub(r\"[^A-Za-z0-9(),!?\\'\\`]\", \" \", string)\n",
        "    string = re.sub(r\"\\'s\", \" \\'s\", string)\n",
        "    string = re.sub(r\"\\'ve\", \" \\'ve\", string)\n",
        "    string = re.sub(r\"n\\'t\", \" n\\'t\", string)\n",
        "    string = re.sub(r\"\\'re\", \" \\'re\", string)\n",
        "    string = re.sub(r\"\\'d\", \" \\'d\", string)\n",
        "    string = re.sub(r\"\\'ll\", \" \\'ll\", string)\n",
        "    string = re.sub(r\",\", \" , \", string)\n",
        "    string = re.sub(r\"!\", \" ! \", string)\n",
        "    string = re.sub(r\"\\(\", \" \\( \", string)\n",
        "    string = re.sub(r\"\\)\", \" \\) \", string)\n",
        "    string = re.sub(r\"\\?\", \" \\? \", string)\n",
        "    string = re.sub(r\"\\s{2,}\", \" \", string)\n",
        "    return string.strip().lower()\n",
        "\n",
        "def handleFile(filePath):\n",
        "    with open(filePath, \"r\", encoding = \"ISO-8859-1\") as f:\n",
        "        lines=f.readlines()\n",
        "        file_voc = []\n",
        "        file_numWords = 0\n",
        "        for line in lines:\n",
        "            cleanedLine = clean_str(line)\n",
        "            cleanedLine = cleanedLine.strip()\n",
        "            cleanedLine = cleanedLine.lower()\n",
        "            words = cleanedLine.split(' ')\n",
        "            file_numWords = file_numWords + len(words)\n",
        "            file_voc.extend(words)\n",
        "    return file_voc, file_numWords\n",
        "\n",
        "\n",
        "allFilesLinks = truthful_reviews_link + deceptive_reviews_link\n",
        "vocabulary = []\n",
        "numWords = []\n",
        "for fileLink in allFilesLinks:\n",
        "    file_voc, file_numWords = handleFile(fileLink)\n",
        "    vocabulary.extend(file_voc)\n",
        "    numWords.append(file_numWords)\n",
        "\n",
        "vocabulary = set(vocabulary)\n",
        "vocabulary = list(vocabulary)\n",
        "\n",
        "print('The total number of files is ', len(numWords))\n",
        "print('The total number of words in the files is ', sum(numWords))\n",
        "print('Vocabulary size is ', len(vocabulary))\n",
        "print('The average number of words in the files is', sum(numWords)/len(numWords))"
      ],
      "execution_count": 0,
      "outputs": [
        {
          "output_type": "stream",
          "text": [
            "The total number of files is  22600\n",
            "The total number of words in the files is  1815773\n",
            "Vocabulary size is  37475\n",
            "The average number of words in the files is 80.34393805309735\n"
          ],
          "name": "stdout"
        }
      ]
    },
    {
      "cell_type": "code",
      "metadata": {
        "scrolled": true,
        "id": "7TkZZ79Pje0T",
        "colab_type": "code",
        "outputId": "8849fe00-aa91-4c24-a932-96fd2a2a139a",
        "colab": {
          "base_uri": "https://localhost:8080/",
          "height": 283
        }
      },
      "source": [
        "\"\"\"Visualize the data in histogram format\"\"\"\n",
        "%matplotlib inline\n",
        "plt.grid(linestyle='-.',alpha=0.3)\n",
        "plt.hist(numWords, 50, color=\"black\", alpha=0.8)\n",
        "plt.xlabel('Sequence Length')\n",
        "plt.ylabel('Frequency')\n",
        "plt.show()"
      ],
      "execution_count": 0,
      "outputs": [
        {
          "output_type": "display_data",
          "data": {
            "image/png": "[encoded data removed]",
            "text/plain": [
              "<Figure size 432x288 with 1 Axes>"
            ]
          },
          "metadata": {
            "tags": []
          }
        }
      ]
    },
    {
      "cell_type": "code",
      "metadata": {
        "id": "FyspMqKVje0W",
        "colab_type": "code",
        "outputId": "e08783b0-6328-429b-a0e1-c595508fccad",
        "colab": {
          "base_uri": "https://localhost:8080/",
          "height": 108
        }
      },
      "source": [
        "word2vec_path = \"https://s3.amazonaws.com/dl4j-distribution/GoogleNews-vectors-negative300.bin.gz\"\n",
        "w2v_model = gensim.models.KeyedVectors.load_word2vec_format(word2vec_path, binary=True)\n",
        "wordsVectors = []\n",
        "notFoundwords = []\n",
        "for word in vocabulary:\n",
        "    try:\n",
        "        vector = w2v_model[word]\n",
        "        wordsVectors.append(vector)\n",
        "    except Exception as e:\n",
        "        notFoundwords.append(word)\n",
        "        wordsVectors.append(np.random.uniform(-0.25,0.25,300))  \n",
        "\n",
        "del w2v_model\n",
        "wordsVectors = np.asarray(wordsVectors)\n",
        "\n",
        "print('The number of missing words is ', len(notFoundwords))\n",
        "\n",
        "\"\"\"Save\"\"\"\n",
        "pickle_file = os.path.join('./', 'save.pickle')\n",
        "\n",
        "try:\n",
        "    f = open(pickle_file, 'wb')\n",
        "    save = {\n",
        "        'wordsVectors': wordsVectors,\n",
        "        'vocabulary': vocabulary,\n",
        "        'notFoundwords': notFoundwords\n",
        "    }\n",
        "\n",
        "    pickle.dump(save, f, pickle.HIGHEST_PROTOCOL)\n",
        "    f.close()\n",
        "except Exception as e:\n",
        "    print('Unable to save data to', pickle_file, ':', e)\n",
        "    raise\n",
        "\n",
        "statinfo = os.stat(pickle_file)\n",
        "print('Compressed pickle size:', statinfo.st_size)"
      ],
      "execution_count": 0,
      "outputs": [
        {
          "output_type": "stream",
          "text": [
            "/usr/local/lib/python3.6/dist-packages/smart_open/smart_open_lib.py:398: UserWarning: This function is deprecated, use smart_open.open instead. See the migration notes for details: https://github.com/RaRe-Technologies/smart_open/blob/master/README.rst#migrating-to-the-new-open-function\n",
            "  'See the migration notes for details: %s' % _MIGRATION_NOTES_URL\n"
          ],
          "name": "stderr"
        },
        {
          "output_type": "stream",
          "text": [
            "The number of missing words is  8887\n",
            "Compressed pickle size: 90362180\n"
          ],
          "name": "stdout"
        }
      ]
    },
    {
      "cell_type": "code",
      "metadata": {
        "id": "PJxOZFsyje0Z",
        "colab_type": "code",
        "outputId": "c0f1d39b-fc62-4fbc-dd29-daedfdef773f",
        "colab": {
          "base_uri": "https://localhost:8080/",
          "height": 52
        }
      },
      "source": [
        "MAX_SEQ_LENGTH = 160\n",
        "def convertFileToIndexArray(filePath):\n",
        "    doc = np.zeros(MAX_SEQ_LENGTH, dtype='int32')\n",
        "    with open(filePath, \"r\", encoding = \"ISO-8859-1\") as f:\n",
        "        lines=f.readlines()\n",
        "        indexCounter = 0\n",
        "        for line in lines:\n",
        "            cleanedLine = clean_str(line)\n",
        "            cleanedLine = cleanedLine.strip()\n",
        "            cleanedLine = cleanedLine.lower()\n",
        "            words = cleanedLine.split(' ')\n",
        "            for word in words:\n",
        "                doc[indexCounter] = vocabulary.index(word)\n",
        "                indexCounter = indexCounter + 1\n",
        "                if (indexCounter >= MAX_SEQ_LENGTH):\n",
        "                    break\n",
        "            if (indexCounter >= MAX_SEQ_LENGTH):\n",
        "                break\n",
        "    return doc\n",
        "\n",
        "totalFiles = len(truthful_reviews_link) + len(deceptive_reviews_link)\n",
        "idsMatrix = np.ndarray(shape=(totalFiles, MAX_SEQ_LENGTH), dtype='int32')\n",
        "labels = np.ndarray(shape=(totalFiles, 2), dtype='int32')\n",
        "\n",
        "counter = 0\n",
        "for filePath in truthful_reviews_link:\n",
        "    idsMatrix[counter] = convertFileToIndexArray(filePath)\n",
        "    counter = counter + 1\n",
        "\n",
        "for filePath in deceptive_reviews_link:\n",
        "    idsMatrix[counter] = convertFileToIndexArray(filePath)\n",
        "    counter = counter + 1\n",
        "    \n",
        "labels[0:len(truthful_reviews_link)] = np.array([1, 0])\n",
        "labels[len(truthful_reviews_link):totalFiles] = np.array([0, 1])\n",
        "\n",
        "print('The shape of the ids matrix is ', idsMatrix.shape)\n",
        "print('The shape of the labels is ', labels.shape)\n"
      ],
      "execution_count": 0,
      "outputs": [
        {
          "output_type": "stream",
          "text": [
            "The shape of the ids matrix is  (22600, 160)\n",
            "The shape of the labels is  (22600, 2)\n"
          ],
          "name": "stdout"
        }
      ]
    },
    {
      "cell_type": "code",
      "metadata": {
        "id": "gk5QL17Bje0c",
        "colab_type": "code",
        "outputId": "08bda904-fbd1-4d37-ae3f-39253dc68816",
        "colab": {
          "base_uri": "https://localhost:8080/",
          "height": 141
        }
      },
      "source": [
        "\"\"\"\n",
        "Create a training set, a validation set and a test set after mixing the data\n",
        "80% for the training set\n",
        "10% for the validation set\n",
        "10% for the test set\n",
        "\"\"\"\n",
        "size = idsMatrix.shape[0]\n",
        "testSize = int(size * 0.1)\n",
        "shuffledIndex = np.random.permutation(size)\n",
        "testIndexes = shuffledIndex[0:testSize]\n",
        "validationIndexes = shuffledIndex[testSize:2*testSize]\n",
        "trainIndexes = shuffledIndex[2*testSize:size]\n",
        "\n",
        "test_data = idsMatrix[testIndexes]\n",
        "test_labels = labels[testIndexes]\n",
        "\n",
        "validation_data = idsMatrix[validationIndexes]\n",
        "validation_labels = labels[validationIndexes]\n",
        "\n",
        "train_data = idsMatrix[trainIndexes]\n",
        "train_labels = labels[trainIndexes]\n",
        "\n",
        "print('train data shape ', train_data.shape)\n",
        "print('train labels shape ', train_labels.shape)\n",
        "print('validation data shape ', validation_data.shape)\n",
        "print('validation labels shape ', validation_labels.shape)\n",
        "print('test data shape ', test_data.shape)\n",
        "print('test labels shape ', test_labels.shape)\n",
        "\n",
        "pickle_file = os.path.join('./', 'data_saved.pickle')\n",
        "\n",
        "try:\n",
        "    f = open(pickle_file, 'wb')\n",
        "    save = {\n",
        "        'train_data': train_data,\n",
        "        'train_labels': train_labels,\n",
        "        'validation_data': validation_data,\n",
        "        'validation_labels': validation_labels,\n",
        "        'test_data': test_data,\n",
        "        'test_labels': test_labels\n",
        "    }\n",
        "    \n",
        "    pickle.dump(save, f, pickle.HIGHEST_PROTOCOL)\n",
        "    f.close()\n",
        "except Exception as e:\n",
        "    print('Unable to save data to', pickle_file, ':', e)\n",
        "    raise\n",
        "\n",
        "statinfo = os.stat(pickle_file)\n",
        "print('Compressed pickle size:', statinfo.st_size)"
      ],
      "execution_count": 0,
      "outputs": [
        {
          "output_type": "stream",
          "text": [
            "train data shape  (18080, 160)\n",
            "train labels shape  (18080, 2)\n",
            "validation data shape  (2260, 160)\n",
            "validation labels shape  (2260, 2)\n",
            "test data shape  (2260, 160)\n",
            "test labels shape  (2260, 2)\n",
            "Compressed pickle size: 14645267\n"
          ],
          "name": "stdout"
        }
      ]
    }
  ]
}